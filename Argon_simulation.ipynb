{
 "cells": [
  {
   "cell_type": "code",
   "execution_count": 1,
   "id": "7023677b-7d3e-41cc-a3e7-22dc53c3463c",
   "metadata": {},
   "outputs": [],
   "source": [
    "import strax\n",
    "import straxen\n",
    "import wfsim\n",
    "import nestpy\n",
    "import numpy as np\n",
    "import matplotlib.pyplot as plt \n",
    "from datetime import datetime"
   ]
  },
  {
   "cell_type": "code",
   "execution_count": 2,
   "id": "8751297d-7bbf-4891-a209-c85ae9f9aed4",
   "metadata": {},
   "outputs": [],
   "source": [
    "st = strax.Context(\n",
    "        storage=strax.DataDirectory('./strax_data'),\n",
    "        config=dict(\n",
    "            fax_config=None,\n",
    "            detector='XENON1T',\n",
    "            **straxen.contexts.x1t_common_config),\n",
    "        **straxen.contexts.common_opts)"
   ]
  },
  {
   "cell_type": "code",
   "execution_count": 3,
   "id": "94c17e16-f8df-412e-9ec2-66b92ee2f913",
   "metadata": {},
   "outputs": [
    {
     "data": {
      "text/plain": [
       "wfsim.strax_interface.RawRecordsFromFax1T"
      ]
     },
     "execution_count": 3,
     "metadata": {},
     "output_type": "execute_result"
    }
   ],
   "source": [
    "st.register(wfsim.RawRecordsFromFax1T)"
   ]
  },
  {
   "cell_type": "code",
   "execution_count": 4,
   "id": "148c577a-8ca9-4ee7-8808-d3ad36521607",
   "metadata": {},
   "outputs": [],
   "source": [
    "run_id = '203' #200 will be for Argon events here I used nr instead of er\n",
    "                #nr would imply a neutron gets released, anything charged or photons is an er\n",
    "                #201 did not seem to have the expected smeer, changing z intrustions for 202\n",
    "                #202 worked well however I believe more events are needed, we need about 9x more events\n",
    "    \n"
   ]
  },
  {
   "cell_type": "code",
   "execution_count": 5,
   "id": "1d576dde-2543-4e99-b650-dbed5bf58c15",
   "metadata": {},
   "outputs": [],
   "source": [
    "def assign_labels(data, ref_img, xdim, ydim, cut_out):\n",
    "    '''This functions takes in the data and classifications based on an image gives the\n",
    "    unique labels as well as the data set bacl with the new classification\n",
    "    PS this version only takes in S1s and S2s and ignores unclassified samples, \n",
    "    another version will be made to deal with the unclassified samples\n",
    "    \n",
    "    data: can be either peaks or peak_basics\n",
    "    ref_img: will be the image extracted from the SOM classification of each data point\n",
    "    xdim: width of the image cube\n",
    "    ydim: height of the image cube\n",
    "    cut_out: removes the n last digits of the image vector if necesarry'''\n",
    "    img = Image.open(ref_img)\n",
    "    imgGray = img.convert('L')\n",
    "    #imgGray2.save('/home/luissanchez25/im_kr83_real__30x30_2lbl.0.rmpmap.png')\n",
    "    img_color = np.array(img)\n",
    "    img_color_2d = img_color.reshape((xdim*ydim,3))\n",
    "    label = -1 * np.ones(img_color.shape[:-1])\n",
    "    colorp = np.unique(img_color_2d, axis = 0)\n",
    "    for i, color in enumerate(colorp):  # argwhere\n",
    "        label[np.all((img_color == color), axis = 2)] = i\n",
    "    label_vec = label.reshape((xdim*ydim))\n",
    "    label_vec_nonzero = label_vec[:-cut_out]\n",
    "    s2_data = data[data['type'] == 2]\n",
    "    s1_data = data[data['type'] == 1]\n",
    "    som_class_peaks = np.concatenate((s1_data,s2_data)) #note had to reverse s2,s1 to s1,s2\n",
    "    som_class_peaks['type'] = label_vec_nonzero\n",
    "    \n",
    "    return colorp, som_class_peaks"
   ]
  },
  {
   "cell_type": "code",
   "execution_count": 6,
   "id": "5d0ef6c4-b179-4a2b-8cb5-cd11cfc6b106",
   "metadata": {},
   "outputs": [
    {
     "data": {
      "text/plain": [
       "array([(0, 1,    50000000, -8.497156 ,  0.51976025, -13.58849 , 126, 'er'),\n",
       "       (0, 2,    50000000, -8.497156 ,  0.51976025, -13.58849 ,  87, 'er'),\n",
       "       (0, 1,   150000000,  3.4693236,  1.2887025 , -45.873905, 113, 'er'),\n",
       "       ...,\n",
       "       (0, 2, 99850000000,  5.1411843,  7.8053837 , -68.161545,  88, 'er'),\n",
       "       (0, 1, 99950000000, -0.6292011, -6.8931246 , -26.034983,  82, 'er'),\n",
       "       (0, 2, 99950000000, -0.6292011, -6.8931246 , -26.034983,  88, 'er')],\n",
       "      dtype=[('event_number', '<i4'), ('type', 'i1'), ('time', '<i8'), ('x', '<f4'), ('y', '<f4'), ('z', '<f4'), ('amp', '<i4'), ('recoil', '<U2')])"
      ]
     },
     "execution_count": 6,
     "metadata": {},
     "output_type": "execute_result"
    }
   ],
   "source": [
    "def Argon_Kshell(c):\n",
    "    \"\"\"\n",
    "    Instruction that is meant to simulate Kr83m events in the TPC.\n",
    "    \"\"\"\n",
    "    import nestpy\n",
    "    #half_life = 156.94e-9 # Kr intermediate state half-life in ns\n",
    "    #decay_energies = [41.6] # Decay energies in KeV\n",
    "\n",
    "    n = c['nevents'] = c['event_rate'] * c['chunk_size'] * c['nchunk']\n",
    "    c['total_time'] = c['chunk_size'] * c['nchunk']\n",
    "\n",
    "    # Uses 4*n to get the two energies for S1 and S2\n",
    "    instructions = np.zeros(2*n,\n",
    "                            dtype=wfsim.instruction_dtype) #instructions = np.zeros(2*n, dtype=wfsim.instruction_dtype)\n",
    "    instructions['event_number'] = np.digitize(instructions['time'],\n",
    "            1e9 * np.arange(c['nchunk']) * c['chunk_size']) - 1\n",
    "\n",
    "    instructions['type'] = np.tile([1,2], n) # original instructions['type'] = np.tile([1,2], 2*n) eliminated one since im only interested in s2s\n",
    "    instructions['recoil'] = ['er' for i in range(2*n)]# original instructions['recoil'] = ['er' for i in range(4*n)]\n",
    "\n",
    "    #might need to reduce all 4's to 2's\n",
    "    # Random positioning\n",
    "    r = np.sqrt(np.random.uniform(0, c['tpc_radius']**2, n))\n",
    "    t = np.random.uniform(-np.pi, np.pi, n)\n",
    "    instructions['x'] = np.repeat(r * np.cos(t), 2)\n",
    "    instructions['y'] = np.repeat(r * np.sin(t), 2)\n",
    "    instructions['z'] = np.repeat(np.random.uniform(-100, 0, n), 2)\n",
    "    # Choosing shallow z positioning\n",
    "\n",
    "    # For correct times need to include the 156.94 ns half life of the intermediate state\n",
    "    uniform_times = c['total_time'] * (np.arange(n) + 0.5) / n\n",
    "    instructions['time'] = np.repeat(uniform_times, 2) * int(1e9)\n",
    "\n",
    "    # Defining XENON-like detector\n",
    "    nc = nestpy.NESTcalc(nestpy.VDetector())\n",
    "    A = 131.293\n",
    "    Z = 54\n",
    "    density = 2.862 # g/cm^3    # SR1 Value\n",
    "    drift_field = 82 # V/cm     # SR1 Value\n",
    "    interaction = nestpy.INTERACTION_TYPE(7) # gamma\n",
    "\n",
    "    energy = np.tile(2.8224, n)\n",
    "    quanta = []\n",
    "    for en in energy:\n",
    "        y = nc.GetYields(interaction,\n",
    "                en,\n",
    "                density,\n",
    "                drift_field,\n",
    "                A,\n",
    "                Z,\n",
    "                (1,1))\n",
    "        quanta.append(nc.GetQuanta(y, density).photons)\n",
    "        quanta.append(nc.GetQuanta(y, density).electrons)\n",
    "\n",
    "    instructions['amp'] = quanta\n",
    "\n",
    "    return instructions\n",
    "\n",
    "Argon_Kshell(dict(nchunk = 10, event_rate = 10, chunk_size=10, tpc_radius = 10))"
   ]
  },
  {
   "cell_type": "code",
   "execution_count": 7,
   "id": "271da583-1626-4f2e-9433-c173b47cdd0e",
   "metadata": {},
   "outputs": [],
   "source": [
    "wfsim.strax_interface.rand_instructions = Argon_Kshell"
   ]
  },
  {
   "cell_type": "code",
   "execution_count": 8,
   "id": "cc2cf0f5-8fae-42f7-9d83-290a6220c7ca",
   "metadata": {},
   "outputs": [],
   "source": [
    "st.set_config(dict(fax_config_override=dict(\n",
    "            enable_noise=False,\n",
    "            enable_pmt_afterpulses=False,\n",
    "            enable_electron_afterpulses=False,)))"
   ]
  },
  {
   "cell_type": "code",
   "execution_count": 9,
   "id": "facf7583-2eed-4277-8d6a-8dce2f2cc33c",
   "metadata": {},
   "outputs": [],
   "source": [
    "st.set_config(dict(fax_config='/data/xenon1t/fax_files/fax_config_1t_uniform_gains.json',\n",
    "                   nchunk=30,\n",
    "                   event_rate=30,\n",
    "                   chunk_size=10))"
   ]
  },
  {
   "cell_type": "code",
   "execution_count": 10,
   "id": "c743a476-a299-4a80-8e3e-3d05b8006e94",
   "metadata": {},
   "outputs": [
    {
     "name": "stderr",
     "output_type": "stream",
     "text": [
      "/opt/conda/envs/didacts/lib/python3.8/site-packages/strax/context.py:589: UserWarning: Option channel_map not taken by any registered plugin\n",
      "  plugins = self._get_plugins(targets, run_id)\n",
      "/opt/conda/envs/didacts/lib/python3.8/site-packages/strax/context.py:1259: UserWarning: Option channel_map not taken by any registered plugin\n",
      "  p = self._get_plugins((target,), run_id)[target]\n"
     ]
    },
    {
     "data": {
      "application/vnd.jupyter.widget-view+json": {
       "model_id": "9c8fe437f6c64486a270bfe321380444",
       "version_major": 2,
       "version_minor": 0
      },
      "text/plain": [
       "HBox(children=(FloatProgress(value=0.0, max=1.0), HTML(value='')))"
      ]
     },
     "metadata": {},
     "output_type": "display_data"
    },
    {
     "name": "stdout",
     "output_type": "stream",
     "text": [
      "\n"
     ]
    }
   ],
   "source": [
    "peak_basics = st.get_array(run_id,'peak_basics')"
   ]
  },
  {
   "cell_type": "code",
   "execution_count": 11,
   "id": "acfe053c-a406-4f48-98fd-e1bcd2a2bc7a",
   "metadata": {},
   "outputs": [
    {
     "data": {
      "image/png": "[encoded data removed]",
      "text/plain": [
       "<Figure size 432x288 with 1 Axes>"
      ]
     },
     "metadata": {
      "needs_background": "light"
     },
     "output_type": "display_data"
    }
   ],
   "source": [
    "fig = plt.figure(figsize=(6,4))\n",
    "#plt.scatter(class0_2['area'],class0_2['rise_time'], s= 0.1, marker='.',color='b', label = \"Class 1\")\n",
    "plt.scatter(peak_basics['area'],peak_basics['rise_time'], s= 0.1, marker='.',color='g', label = \"Class 2\")\n",
    "#plt.scatter(class3_2['length'],class3_2['rise_time'], s= 0.1, marker='.',color='orange', label = \"Class 3\")\n",
    "#plt.scatter(class2['area'],class2['rise_time'], s= 0.1, marker='.',color='red')\n",
    "plt.yscale('log')\n",
    "plt.ylim(2,12000)\n",
    "plt.xlim(0.1,2e6)\n",
    "plt.xscale('log')\n",
    "plt.xlabel('Area [PE]')#, fontsize = 30)\n",
    "plt.ylabel('Rise time [ns]')#, fontsize = 30)\n",
    "plt.legend(markerscale=8)#, fontsize = 24)\n",
    "plt.tight_layout()\n",
    "#plt.savefig('Checks/kr83_real_data_3lbl_SOM_class.pdf')\n",
    "plt.show()"
   ]
  },
  {
   "cell_type": "code",
   "execution_count": 12,
   "id": "b8ff8336-33c5-46c6-8ead-4bb6fe0ca51a",
   "metadata": {},
   "outputs": [],
   "source": [
    "#Now lets simulate the L-shell\n",
    "def Argon_Lshell(c):\n",
    "    \"\"\"\n",
    "    Instruction that is meant to simulate Argon Lshell events in the TPC.\n",
    "    This set of code can only generate S2s due to the S1s having 0 amplitude\n",
    "    \"\"\"\n",
    "    import nestpy\n",
    "    #half_life = 156.94e-9 # Kr intermediate state half-life in ns\n",
    "    #decay_energies = [41.6] # Decay energies in KeV\n",
    "\n",
    "    n = c['nevents'] = c['event_rate'] * c['chunk_size'] * c['nchunk']\n",
    "    c['total_time'] = c['chunk_size'] * c['nchunk']\n",
    "\n",
    "    # Uses 4*n to get the two energies for S1 and S2\n",
    "    instructions = np.zeros(n,\n",
    "                            dtype=wfsim.instruction_dtype) #instructions = np.zeros(2*n, dtype=wfsim.instruction_dtype)\n",
    "    instructions['event_number'] = np.digitize(instructions['time'],\n",
    "            1e9 * np.arange(c['nchunk']) * c['chunk_size']) - 1\n",
    "\n",
    "    instructions['type'] = np.tile([2], n) # original instructions['type'] = np.tile([1,2], 2*n) eliminated one since im only interested in s2s\n",
    "    instructions['recoil'] = ['er' for i in range(n)]# original instructions['recoil'] = ['er' for i in range(4*n)]\n",
    "\n",
    "    #might need to reduce all 4's to 2's\n",
    "    # Random positioning\n",
    "    r = np.sqrt(np.random.uniform(0, c['tpc_radius']**2, n))\n",
    "    t = np.random.uniform(-np.pi, np.pi, n)\n",
    "    instructions['x'] = np.repeat(r * np.cos(t), 1)\n",
    "    instructions['y'] = np.repeat(r * np.sin(t), 1)\n",
    "    instructions['z'] = np.repeat(np.random.uniform(-100, 0, n), 1)\n",
    "    # Choosing shallow z positioning\n",
    "\n",
    "    # For correct times need to include the 156.94 ns half life of the intermediate state\n",
    "    uniform_times = c['total_time'] * (np.arange(n) + 0.5) / n\n",
    "    instructions['time'] = np.repeat(uniform_times, 1) * int(1e9)\n",
    "\n",
    "    # Defining XENON-like detector\n",
    "    nc = nestpy.NESTcalc(nestpy.VDetector())\n",
    "    A = 131.293\n",
    "    Z = 54\n",
    "    density = 2.862 # g/cm^3    # SR1 Value\n",
    "    drift_field = 82 # V/cm     # SR1 Value\n",
    "    interaction = nestpy.INTERACTION_TYPE(7) # gamma\n",
    "\n",
    "    energy = np.tile(0.2702, n)\n",
    "    quanta = []\n",
    "    for en in energy:\n",
    "        y = nc.GetYields(interaction,\n",
    "                en,\n",
    "                density,\n",
    "                drift_field,\n",
    "                A,\n",
    "                Z,\n",
    "                (1,1))\n",
    "        #quanta.append(nc.GetQuanta(y, density).photons)\n",
    "        quanta.append(nc.GetQuanta(y, density).electrons)\n",
    "    \n",
    "    #print(quanta)\n",
    "    instructions['amp'] = quanta\n",
    "\n",
    "    return instructions\n",
    "\n",
    "#Argon_Lshell(dict(nchunk = 10, event_rate = 10, chunk_size=10, tpc_radius = 10))"
   ]
  },
  {
   "cell_type": "code",
   "execution_count": 13,
   "id": "b8d4412f-6d9d-49cc-bce9-1b4657f34afe",
   "metadata": {},
   "outputs": [],
   "source": [
    "Lshell_id = '250'"
   ]
  },
  {
   "cell_type": "code",
   "execution_count": 14,
   "id": "867023e5-9a17-44a3-93b5-8d733202a748",
   "metadata": {},
   "outputs": [],
   "source": [
    "wfsim.strax_interface.rand_instructions = Argon_Lshell"
   ]
  },
  {
   "cell_type": "code",
   "execution_count": 15,
   "id": "19fef6f5-b971-4e69-b199-f517713dd503",
   "metadata": {},
   "outputs": [],
   "source": [
    "st.set_config(dict(fax_config_override=dict(\n",
    "            enable_noise=False,\n",
    "            enable_pmt_afterpulses=False,\n",
    "            enable_electron_afterpulses=False,)))"
   ]
  },
  {
   "cell_type": "code",
   "execution_count": 16,
   "id": "1f39b50f-981b-4899-b233-d34908c3de5f",
   "metadata": {},
   "outputs": [],
   "source": [
    "st.set_config(dict(fax_config='/data/xenon1t/fax_files/fax_config_1t_uniform_gains.json',\n",
    "                   nchunk=10,\n",
    "                   event_rate=10,\n",
    "                   chunk_size=10))"
   ]
  },
  {
   "cell_type": "code",
   "execution_count": 17,
   "id": "34d52461-9bda-4048-85f0-333b5ffc8b94",
   "metadata": {},
   "outputs": [
    {
     "name": "stderr",
     "output_type": "stream",
     "text": [
      "/opt/conda/envs/didacts/lib/python3.8/site-packages/strax/context.py:589: UserWarning: Option channel_map not taken by any registered plugin\n",
      "  plugins = self._get_plugins(targets, run_id)\n",
      "/opt/conda/envs/didacts/lib/python3.8/site-packages/strax/context.py:1259: UserWarning: Option channel_map not taken by any registered plugin\n",
      "  p = self._get_plugins((target,), run_id)[target]\n"
     ]
    },
    {
     "data": {
      "application/vnd.jupyter.widget-view+json": {
       "model_id": "126f71e7162d442596614389dda9ea91",
       "version_major": 2,
       "version_minor": 0
      },
      "text/plain": [
       "HBox(children=(FloatProgress(value=0.0, max=1.0), HTML(value='')))"
      ]
     },
     "metadata": {},
     "output_type": "display_data"
    },
    {
     "name": "stdout",
     "output_type": "stream",
     "text": [
      "\n"
     ]
    }
   ],
   "source": [
    "peak_basics_Lshell = st.get_array(Lshell_id,'peak_basics')"
   ]
  },
  {
   "cell_type": "code",
   "execution_count": 18,
   "id": "a300f440-fd98-494f-bbfa-8e6d844faa46",
   "metadata": {},
   "outputs": [
    {
     "data": {
      "image/png": "[encoded data removed]",
      "text/plain": [
       "<Figure size 432x288 with 1 Axes>"
      ]
     },
     "metadata": {
      "needs_background": "light"
     },
     "output_type": "display_data"
    }
   ],
   "source": [
    "fig = plt.figure(figsize=(6,4))\n",
    "#plt.scatter(class0_2['area'],class0_2['rise_time'], s= 0.1, marker='.',color='b', label = \"Class 1\")\n",
    "plt.scatter(peak_basics_Lshell['area'],peak_basics_Lshell['rise_time'], s= 0.1, marker='.',color='r', label = \"Class 2\")\n",
    "plt.scatter(peak_basics['area'],peak_basics['rise_time'], s= 0.1, marker='.',color='g', label = \"f\")\n",
    "#plt.scatter(class3_2['length'],class3_2['rise_time'], s= 0.1, marker='.',color='orange', label = \"Class 3\")\n",
    "#plt.scatter(class2['area'],class2['rise_time'], s= 0.1, marker='.',color='red')\n",
    "plt.yscale('log')\n",
    "plt.ylim(2,12000)\n",
    "plt.xlim(0.1,2e6)\n",
    "plt.xscale('log')\n",
    "plt.xlabel('Area [PE]')#, fontsize = 30)\n",
    "plt.ylabel('Rise time [ns]')#, fontsize = 30)\n",
    "plt.legend(markerscale=8)#, fontsize = 24)\n",
    "plt.tight_layout()\n",
    "#plt.savefig('Checks/kr83_real_data_3lbl_SOM_class.pdf')\n",
    "plt.show()"
   ]
  },
  {
   "cell_type": "code",
   "execution_count": 19,
   "id": "e5aa5b14-b742-49f2-bd77-628669559134",
   "metadata": {},
   "outputs": [],
   "source": [
    "peaks_Kshell = st.get_array(run_id, 'peaks')"
   ]
  },
  {
   "cell_type": "code",
   "execution_count": 20,
   "id": "b04ccd61-3379-4f18-8a86-3ac49a5146a8",
   "metadata": {},
   "outputs": [
    {
     "name": "stderr",
     "output_type": "stream",
     "text": [
      "/opt/conda/envs/didacts/lib/python3.8/site-packages/strax/context.py:589: UserWarning: Option channel_map not taken by any registered plugin\n",
      "  plugins = self._get_plugins(targets, run_id)\n",
      "/opt/conda/envs/didacts/lib/python3.8/site-packages/strax/context.py:1259: UserWarning: Option channel_map not taken by any registered plugin\n",
      "  p = self._get_plugins((target,), run_id)[target]\n"
     ]
    }
   ],
   "source": [
    "peaks_Lshell = st.get_array(Lshell_id, 'peaks')"
   ]
  },
  {
   "cell_type": "code",
   "execution_count": 21,
   "id": "86553846-26a9-4b43-a1e3-1ba938c3e3fe",
   "metadata": {},
   "outputs": [],
   "source": [
    "def dump_matched_peaks(run_id, truth, peaks, peak_basics):#, int_type):\n",
    "    \"\"\"\n",
    "    Dump matched peaks in a human readable format\n",
    "    param run_id: run_id\n",
    "    param truth: truth array to be matched\n",
    "    param peaks: peaks array to be matched\n",
    "    return data: np.array with the matched peaks and true info\n",
    "    \"\"\"\n",
    "    #  This is for single electrons\n",
    "    #if int_type == 1:\n",
    "    #    truth = truth[truth['n_electron'] == 1]\n",
    "\n",
    "    #  for now focus on S2\n",
    "    s2_truth = truth\n",
    "    s2_peaks = peaks\n",
    "    s2_peak_basics = peak_basics\n",
    "\n",
    "    #  This is first attemp to match peaks and true info\n",
    "    mask = np.zeros(len(s2_peak_basics), dtype=np.bool)\n",
    "    for i, t in enumerate(s2_truth):\n",
    "        mask += ((s2_peak_basics['time'] < t['t_mean_photon']) &\n",
    "                 (s2_peak_basics['endtime'] > t['t_mean_photon']))\n",
    "\n",
    "    s2_matched = s2_peaks[mask]\n",
    "    s2_peak_basics = s2_peak_basics[mask]\n",
    "\n",
    "    #   Do not ask me why... sometimes life is hard...\n",
    "    if len(s2_matched['time']) != len(s2_truth['time']):\n",
    "        s2_matched, s2_peak_basics, s2_truth = match_events(s2_matched, s2_peak_basics, s2_truth)\n",
    "\n",
    "    '''data = np.zeros(len(s2_matched),\n",
    "                    dtype=[('run_id', '<i8'), ('center_time', '<i8'), ('area', '<f8'), ('area_per_channel', '<f8', (248, )),\n",
    "                           ('data', '<f8', (200, )), ('n_saturated_channels', '<i8'), ('n_electrons', '<i8'),\n",
    "                           ('n_photons', '<i8'), ('amp', '<i8'), ('x', '<f8'), ('y', '<f8'), ('z', '<f8'), ('t', '<i8')])\n",
    "\n",
    "    data['run_id'] = np.repeat(run_id, len(s2_matched))\n",
    "    data['center_time'] = s2_peak_basics['center_time']\n",
    "    data['area'] = s2_matched['area']\n",
    "    data['area_per_channel'] = s2_matched['area_per_channel']\n",
    "    data['data'] = s2_matched['data']\n",
    "    data['n_saturated_channels'] = s2_matched['n_saturated_channels']\n",
    "    data['n_electrons'] = s2_truth['n_electron']\n",
    "    data['n_photons'] = s2_truth['n_photon']\n",
    "    data['amp'] = s2_truth['amp']\n",
    "    data['x'] = s2_truth['x']\n",
    "    data['y'] = s2_truth['y']\n",
    "    data['z'] = s2_truth['z']\n",
    "    data['t'] = s2_truth['t_mean_photon']'''\n",
    "\n",
    "    return s2_matched, s2_peak_basics, s2_truth"
   ]
  },
  {
   "cell_type": "code",
   "execution_count": 22,
   "id": "ce703565-5482-4d79-a9e8-d72484d3a9a5",
   "metadata": {},
   "outputs": [],
   "source": [
    "def match_events(s2_matched, s2_peak_basics, s2_truth):\n",
    "    \"\"\"\n",
    "    Match s2 peaks with s2 true info\n",
    "    param s2_matched: s2 peak array\n",
    "    param s2_peak_basics: s2 peak_basic array\n",
    "    param s2_truth: s2 truth array\n",
    "    param return: s2_ms2_matched, s2_peak_basics, s2_truth matched arrays\n",
    "    \"\"\"\n",
    "    matched = []\n",
    "    matched_t = []\n",
    "    for i, p in enumerate(s2_peak_basics):\n",
    "        for j, t in enumerate(s2_truth):\n",
    "            if abs(p['center_time']-t['t_mean_photon']) < 200:  # 200 ns window\n",
    "                matched.append(i)\n",
    "                matched_t.append(j)\n",
    "                break\n",
    "\n",
    "    s2_matched = np.take(s2_matched, matched)\n",
    "    s2_peak_basics = np.take(s2_peak_basics, matched)\n",
    "    s2_truth = np.take(s2_truth, matched_t)\n",
    "\n",
    "    return s2_matched, s2_peak_basics, s2_truth"
   ]
  },
  {
   "cell_type": "code",
   "execution_count": 23,
   "id": "08d40978-709f-44eb-b396-0ae82204500e",
   "metadata": {},
   "outputs": [
    {
     "data": {
      "application/vnd.jupyter.widget-view+json": {
       "model_id": "4105cb6cf392457e987434a6371dd3d7",
       "version_major": 2,
       "version_minor": 0
      },
      "text/plain": [
       "HBox(children=(FloatProgress(value=0.0, max=1.0), HTML(value='')))"
      ]
     },
     "metadata": {},
     "output_type": "display_data"
    },
    {
     "name": "stdout",
     "output_type": "stream",
     "text": [
      "\n"
     ]
    }
   ],
   "source": [
    "kshell_truth = st.get_array(run_id, 'truth')"
   ]
  },
  {
   "cell_type": "code",
   "execution_count": 24,
   "id": "7fba24e5-5602-41a0-b7a4-49ec70e7017d",
   "metadata": {},
   "outputs": [
    {
     "name": "stderr",
     "output_type": "stream",
     "text": [
      "/opt/conda/envs/didacts/lib/python3.8/site-packages/strax/context.py:589: UserWarning: Option channel_map not taken by any registered plugin\n",
      "  plugins = self._get_plugins(targets, run_id)\n",
      "/opt/conda/envs/didacts/lib/python3.8/site-packages/strax/context.py:1259: UserWarning: Option channel_map not taken by any registered plugin\n",
      "  p = self._get_plugins((target,), run_id)[target]\n"
     ]
    },
    {
     "data": {
      "application/vnd.jupyter.widget-view+json": {
       "model_id": "6de1e4e15d044e708a297506268a65da",
       "version_major": 2,
       "version_minor": 0
      },
      "text/plain": [
       "HBox(children=(FloatProgress(value=0.0, max=1.0), HTML(value='')))"
      ]
     },
     "metadata": {},
     "output_type": "display_data"
    },
    {
     "name": "stdout",
     "output_type": "stream",
     "text": [
      "\n"
     ]
    }
   ],
   "source": [
    "lshell_truth = st.get_array(Lshell_id, 'truth')"
   ]
  },
  {
   "cell_type": "code",
   "execution_count": 95,
   "id": "fdc4e190-ef34-4563-bfc1-ea24989a1a70",
   "metadata": {},
   "outputs": [
    {
     "name": "stderr",
     "output_type": "stream",
     "text": [
      "<ipython-input-21-025893e468c2>:21: RuntimeWarning: invalid value encountered in less\n",
      "  mask += ((s2_peak_basics['time'] < t['t_mean_photon']) &\n",
      "<ipython-input-21-025893e468c2>:22: RuntimeWarning: invalid value encountered in greater\n",
      "  (s2_peak_basics['endtime'] > t['t_mean_photon']))\n"
     ]
    }
   ],
   "source": [
    "kmatched_peaks, kmatched_peak_basics, kmatched_truth = dump_matched_peaks(run_id,kshell_truth,peaks_Kshell,peak_basics)"
   ]
  },
  {
   "cell_type": "code",
   "execution_count": 26,
   "id": "eb3245a8-d780-4804-b6dc-d6231d44eb23",
   "metadata": {},
   "outputs": [],
   "source": [
    "lmatched_peaks, lmatched_peak_basics, lmatched_truth = dump_matched_peaks(Lshell_id,lshell_truth,peaks_Lshell,peak_basics_Lshell)"
   ]
  },
  {
   "cell_type": "code",
   "execution_count": 32,
   "id": "96c0c07f-07d8-44bb-b725-f656fd0444f5",
   "metadata": {},
   "outputs": [],
   "source": [
    "kmathched_peaks_true = kmatched_peaks\n",
    "kmathched_peaks_true['type'] = kmatched_truth['type']\n",
    "kmathched_peaks_true['data'] = np.where(kmathched_peaks_true['data']<0, 0, kmathched_peaks_true['data'])"
   ]
  },
  {
   "cell_type": "code",
   "execution_count": 33,
   "id": "e9c362e5-b274-4145-8aab-a75259dbed3a",
   "metadata": {},
   "outputs": [],
   "source": [
    "lmathched_peaks_true = lmatched_peaks\n",
    "lmathched_peaks_true['type'] = lmatched_truth['type']\n",
    "lmathched_peaks_true['data'] = np.where(lmathched_peaks_true['data']<0, 0, lmathched_peaks_true['data'])"
   ]
  },
  {
   "cell_type": "code",
   "execution_count": 56,
   "id": "9d2f3295-c74a-491e-a67c-ae998b7ab0b5",
   "metadata": {},
   "outputs": [],
   "source": [
    "kmatched_pb_t = kmatched_peak_basics\n",
    "kmatched_pb_t['type'] = kmatched_truth['type']"
   ]
  },
  {
   "cell_type": "code",
   "execution_count": 57,
   "id": "628712f3-9f5c-48c2-bbd8-1c65465d8e12",
   "metadata": {},
   "outputs": [],
   "source": [
    "lmatched_pb_t = lmatched_peak_basics\n",
    "lmatched_pb_t['type'] = lmatched_truth['type']"
   ]
  },
  {
   "cell_type": "code",
   "execution_count": 58,
   "id": "7e8fd63e-e98e-4218-8c63-6a05571f1dfa",
   "metadata": {},
   "outputs": [],
   "source": [
    "kpb_s1 = kmatched_pb_t[kmatched_pb_t['type']==1]\n",
    "kpb_s2= kmatched_pb_t[kmatched_pb_t['type']==2]"
   ]
  },
  {
   "cell_type": "code",
   "execution_count": 60,
   "id": "e8fb5dcf-b45d-4f79-bd9e-3f8e4c9a0237",
   "metadata": {},
   "outputs": [],
   "source": [
    "kpb = np.concatenate((kpb_s2,kpb_s1))"
   ]
  },
  {
   "cell_type": "code",
   "execution_count": 59,
   "id": "e738a521-0159-47bb-9f18-b09a6ce58381",
   "metadata": {},
   "outputs": [],
   "source": [
    "lpb_s1 = lmatched_pb_t[lmatched_pb_t['type']==1]\n",
    "lpb_s2 = lmatched_pb_t[lmatched_pb_t['type']==2]"
   ]
  },
  {
   "cell_type": "code",
   "execution_count": 61,
   "id": "cef0be94-a112-4ae0-8311-d5adc788ba5b",
   "metadata": {},
   "outputs": [],
   "source": [
    "lpb = np.concatenate((lpb_s2,lpb_s1))"
   ]
  },
  {
   "cell_type": "code",
   "execution_count": 34,
   "id": "7cc2d559-0aaa-40c3-a554-088378e87280",
   "metadata": {},
   "outputs": [],
   "source": [
    "kpeaks_s1 = kmathched_peaks_true[kmathched_peaks_true['type'] == 1]\n",
    "kpeaks_s2 = kmathched_peaks_true[kmathched_peaks_true['type'] == 2]"
   ]
  },
  {
   "cell_type": "code",
   "execution_count": 35,
   "id": "a10a7c0f-5b71-49c3-9b27-edaf53f39373",
   "metadata": {},
   "outputs": [],
   "source": [
    "lpeaks_s1 = lmathched_peaks_true[lmathched_peaks_true['type'] == 1]\n",
    "lpeaks_s2 = lmathched_peaks_true[lmathched_peaks_true['type'] == 2]"
   ]
  },
  {
   "cell_type": "code",
   "execution_count": 31,
   "id": "1c59282e-6827-4284-968d-9eb93511e9f4",
   "metadata": {},
   "outputs": [],
   "source": [
    "#L1 normalize and save the data as a raw file\n",
    "S2_kshell_L1 = np.zeros((np.shape(kpeaks_s2['data'])))\n",
    "for aa in np.arange(len(kpeaks_s2['data'][:,1])):\n",
    "    S2_kshell_L1[aa,:] = kpeaks_s2['data'][aa,:]/np.sum(kpeaks_s2['data'][aa,:])\n",
    "    \n",
    "S1_kshell_L1 = np.zeros((np.shape(kpeaks_s1['data'])))\n",
    "for aa in np.arange(len(kpeaks_s1['data'][:,1])):\n",
    "    S1_kshell_L1[aa,:] = kpeaks_s1['data'][aa,:]/np.sum(kpeaks_s1['data'][aa,:])"
   ]
  },
  {
   "cell_type": "code",
   "execution_count": 32,
   "id": "bde4bef5-0750-48fa-b2e3-09aa14424020",
   "metadata": {},
   "outputs": [],
   "source": [
    "S2_lshell_L1 = np.zeros((np.shape(lpeaks_s2['data'])))\n",
    "for aa in np.arange(len(lpeaks_s2['data'][:,1])):\n",
    "    S2_lshell_L1[aa,:] = lpeaks_s2['data'][aa,:]/np.sum(lpeaks_s2['data'][aa,:])"
   ]
  },
  {
   "cell_type": "code",
   "execution_count": 33,
   "id": "2a39eeaf-b03b-44eb-8c58-805a74f35ad0",
   "metadata": {},
   "outputs": [],
   "source": [
    "S2_kshell_L1 = np.array(S2_kshell_L1)\n",
    "S1_kshell_L1 = np.array(S1_kshell_L1)\n",
    "S2_lshell_L1 = np.array(S2_lshell_L1)"
   ]
  },
  {
   "cell_type": "code",
   "execution_count": 108,
   "id": "1bf72d6c-e19c-4db2-909a-fdd53ef8399a",
   "metadata": {},
   "outputs": [
    {
     "data": {
      "text/plain": [
       "(8716, 200)"
      ]
     },
     "execution_count": 108,
     "metadata": {},
     "output_type": "execute_result"
    }
   ],
   "source": [
    "np.shape(S2_kshell_L1)"
   ]
  },
  {
   "cell_type": "code",
   "execution_count": 109,
   "id": "123d3b83-2999-4642-be64-7f6d36beb673",
   "metadata": {},
   "outputs": [
    {
     "data": {
      "text/plain": [
       "(8992, 200)"
      ]
     },
     "execution_count": 109,
     "metadata": {},
     "output_type": "execute_result"
    }
   ],
   "source": [
    "np.shape(S1_kshell_L1)"
   ]
  },
  {
   "cell_type": "code",
   "execution_count": 101,
   "id": "72872019-040b-43b9-88fd-bb72db3cb655",
   "metadata": {},
   "outputs": [
    {
     "data": {
      "text/plain": [
       "1.0000000261052264"
      ]
     },
     "execution_count": 101,
     "metadata": {},
     "output_type": "execute_result"
    }
   ],
   "source": [
    "S2_kshell_L1[50,:].sum()"
   ]
  },
  {
   "cell_type": "code",
   "execution_count": 104,
   "id": "06e6ebb3-9d6c-4812-bee7-0a50ef4792cd",
   "metadata": {},
   "outputs": [
    {
     "data": {
      "text/plain": [
       "957"
      ]
     },
     "execution_count": 104,
     "metadata": {},
     "output_type": "execute_result"
    }
   ],
   "source": [
    "np.size(lpeaks_s2)"
   ]
  },
  {
   "cell_type": "code",
   "execution_count": 110,
   "id": "65437f3b-ec91-4b2d-a19f-d5ccabe8aa49",
   "metadata": {},
   "outputs": [],
   "source": [
    "kshell_L1 = np.concatenate((S2_kshell_L1,S1_kshell_L1))"
   ]
  },
  {
   "cell_type": "code",
   "execution_count": 111,
   "id": "14c41995-9612-4a30-9149-284d442247df",
   "metadata": {},
   "outputs": [
    {
     "data": {
      "text/plain": [
       "(17708, 200)"
      ]
     },
     "execution_count": 111,
     "metadata": {},
     "output_type": "execute_result"
    }
   ],
   "source": [
    "np.shape(kshell_L1)"
   ]
  },
  {
   "cell_type": "code",
   "execution_count": 112,
   "id": "3531583c-02f0-4489-b0a0-6cb340de5941",
   "metadata": {},
   "outputs": [],
   "source": [
    "from functools import reduce\n",
    "\n",
    "def factors(n):    \n",
    "    return set(reduce(list.__add__, \n",
    "                ([i, n//i] for i in range(1, int(n**0.5) + 1) if n % i == 0)))"
   ]
  },
  {
   "cell_type": "code",
   "execution_count": 113,
   "id": "908adf32-20d8-4ee9-8a0e-857d3f21dd02",
   "metadata": {},
   "outputs": [
    {
     "data": {
      "text/plain": [
       "{1, 2, 4, 19, 38, 76, 233, 466, 932, 4427, 8854, 17708}"
      ]
     },
     "execution_count": 113,
     "metadata": {},
     "output_type": "execute_result"
    }
   ],
   "source": [
    "factors(17708)"
   ]
  },
  {
   "cell_type": "code",
   "execution_count": 115,
   "id": "17d3f595-1124-428e-a042-cbd46f3249da",
   "metadata": {},
   "outputs": [
    {
     "data": {
      "text/plain": [
       "17708"
      ]
     },
     "execution_count": 115,
     "metadata": {},
     "output_type": "execute_result"
    }
   ],
   "source": [
    "233*76"
   ]
  },
  {
   "cell_type": "code",
   "execution_count": 116,
   "id": "d3ae3b1a-3ab1-4056-8ac2-2c81f66686e6",
   "metadata": {},
   "outputs": [
    {
     "data": {
      "text/plain": [
       "(957, 200)"
      ]
     },
     "execution_count": 116,
     "metadata": {},
     "output_type": "execute_result"
    }
   ],
   "source": [
    "np.shape(S2_lshell_L1)"
   ]
  },
  {
   "cell_type": "code",
   "execution_count": 118,
   "id": "39d8d255-70e3-46bf-bbfd-7ca3589dd855",
   "metadata": {},
   "outputs": [
    {
     "data": {
      "text/plain": [
       "{1, 3, 11, 29, 33, 87, 319, 957}"
      ]
     },
     "execution_count": 118,
     "metadata": {},
     "output_type": "execute_result"
    }
   ],
   "source": [
    "factors(957)"
   ]
  },
  {
   "cell_type": "code",
   "execution_count": 119,
   "id": "c75a08d9-70f1-4246-8f69-758f6db7377f",
   "metadata": {},
   "outputs": [
    {
     "data": {
      "text/plain": [
       "957"
      ]
     },
     "execution_count": 119,
     "metadata": {},
     "output_type": "execute_result"
    }
   ],
   "source": [
    "29*33"
   ]
  },
  {
   "cell_type": "code",
   "execution_count": 121,
   "id": "6e228c0b-fea8-41c9-8dcf-93cd3d1ab374",
   "metadata": {},
   "outputs": [],
   "source": [
    "kshell_L1  = kshell_L1.astype('float32')\n",
    "kshell_L1_vec = np.reshape(kshell_L1 ,(len(kshell_L1[1,:])*(len(kshell_L1[:,1]))))"
   ]
  },
  {
   "cell_type": "code",
   "execution_count": 122,
   "id": "7a52b723-7e6c-4872-b7e3-ada8593e5fd0",
   "metadata": {},
   "outputs": [],
   "source": [
    "import struct\n",
    "\n",
    "f=open(\"Argon_kshell_data_L1.raw\",\"wb\")\n",
    "export_TL = kshell_L1_vec\n",
    "myfmt='f'*len(export_TL)\n",
    "#  You can use 'd' for double and < or > to force endinness\n",
    "bin=struct.pack(myfmt,*export_TL)\n",
    "f.write(bin)\n",
    "f.close()"
   ]
  },
  {
   "cell_type": "code",
   "execution_count": 123,
   "id": "6f37dc30-89db-41e5-b193-5063bb823f63",
   "metadata": {},
   "outputs": [],
   "source": [
    "lshell_L1  = S2_lshell_L1.astype('float32')\n",
    "lshell_L1_vec = np.reshape(lshell_L1 ,(len(lshell_L1[1,:])*(len(lshell_L1[:,1]))))"
   ]
  },
  {
   "cell_type": "code",
   "execution_count": 124,
   "id": "ad1d6029-7c09-4408-b607-1eb4e89e3c48",
   "metadata": {},
   "outputs": [],
   "source": [
    "import struct\n",
    "\n",
    "f=open(\"Argon_lshell_data_L1.raw\",\"wb\")\n",
    "export_TL = lshell_L1_vec\n",
    "myfmt='f'*len(export_TL)\n",
    "#  You can use 'd' for double and < or > to force endinness\n",
    "bin=struct.pack(myfmt,*export_TL)\n",
    "f.write(bin)\n",
    "f.close()"
   ]
  },
  {
   "cell_type": "code",
   "execution_count": 126,
   "id": "3b22695c-4a82-420d-bec8-eae10dab1282",
   "metadata": {},
   "outputs": [
    {
     "data": {
      "text/plain": [
       "[<matplotlib.lines.Line2D at 0x7f70a42dd9d0>]"
      ]
     },
     "execution_count": 126,
     "metadata": {},
     "output_type": "execute_result"
    },
    {
     "data": {
      "image/png": "[encoded data removed]",
      "text/plain": [
       "<Figure size 432x288 with 1 Axes>"
      ]
     },
     "metadata": {
      "needs_background": "light"
     },
     "output_type": "display_data"
    }
   ],
   "source": [
    "plt.plot(lshell_L1[20,:])"
   ]
  },
  {
   "cell_type": "code",
   "execution_count": 141,
   "id": "51090f8e-ca3b-43e1-a5ca-dbff2110264b",
   "metadata": {},
   "outputs": [],
   "source": [
    "class_nums = [8761, 8761+8992, 1e10]\n",
    "def generate_incl_file(filename, xcube, ycube, class_nums):\n",
    "    #example 233 x and 76 y with S2s being 8716 and S1s being 8992\n",
    "    f = open(filename, \"w+\")\n",
    "    count = 1\n",
    "    for i in np.arange(ycube):\n",
    "        for j in np.arange(xcube):\n",
    "            if count <= class_nums[0]:\n",
    "                f.write('include area ' \n",
    "                        +str(j+1) + ' ' \n",
    "                        +str(i+1) + ' ' \n",
    "                        +str(j+1) + ' ' \n",
    "                        +str(i+1) + ' C' + ' \\n')\n",
    "            if count > class_nums[0] and count <= class_nums[1]:\n",
    "                f.write('include area ' \n",
    "                        +str(j+1) + ' ' \n",
    "                        +str(i+1) + ' ' \n",
    "                        +str(j+1) + ' ' \n",
    "                        +str(i+1) + ' G' + '\\n')\n",
    "            if count > class_nums[1]:\n",
    "                f.write('include area ' \n",
    "                        +str(j+1) + ' ' \n",
    "                        +str(i+1) + ' ' \n",
    "                        +str(j+1) + ' ' \n",
    "                        +str(i+1) + ' H' + '\\n')\n",
    "            count = count + 1\n",
    "    f.close()"
   ]
  },
  {
   "cell_type": "code",
   "execution_count": 142,
   "id": "9171a93d-cfef-4b9c-b6aa-2ecc9616f9b7",
   "metadata": {},
   "outputs": [],
   "source": [
    "generate_incl_file(\"Argon_kshell_incl.txt\",233,76,class_nums)"
   ]
  },
  {
   "cell_type": "raw",
   "id": "2c5713ca-b8f8-48e2-bb62-dd69500ac2e1",
   "metadata": {},
   "source": [
    "Argon_incl_file"
   ]
  },
  {
   "cell_type": "markdown",
   "id": "cdf0167b-b20c-4a2e-a498-d669162425b7",
   "metadata": {},
   "source": [
    "This section of the code will be for upsampling the data and outputing the .raw files"
   ]
  },
  {
   "cell_type": "code",
   "execution_count": 42,
   "id": "3f24b407-8afe-43ea-9262-1e6304c17880",
   "metadata": {},
   "outputs": [],
   "source": [
    "def upsample_data(wfdata, max_dt):\n",
    "    #this function takes in waveforms of different dts and upsamples them by repeating\n",
    "    #the elements by the dt value and padding with zeros when necessary\n",
    "    #Max dt is just the largest dt to use\n",
    "    data = wfdata['data'].copy()\n",
    "    dt = wfdata['dt'].copy() // 10 # Integer divide by 10 ns\n",
    "    #max_dt = 8 # units of 10 ns\n",
    "    assert dt.max() <= max_dt\n",
    "\n",
    "    # This will be where the padded waveforms go\n",
    "    S2_padded_data = np.zeros((data.shape[0],\n",
    "                            data.shape[1]*max_dt))\n",
    "\n",
    "    for value in np.unique(dt): \n",
    "        # Just pick waveforms with dt of some value, where this is the mask\n",
    "        selection = dt == value\n",
    "\n",
    "    # Fill required values in the padded data\n",
    "        S2_padded_data[selection, 0:value*200] = np.repeat(data[selection],\n",
    "                                                        value,\n",
    "                                                        axis=1,)\n",
    "    return S2_padded_data"
   ]
  },
  {
   "cell_type": "code",
   "execution_count": 36,
   "id": "57b465dc-0058-44fe-bca6-ad39a9631ff3",
   "metadata": {},
   "outputs": [],
   "source": [
    "def recombine_data(s2,s1,num_0_vec):\n",
    "    [A,B] = np.shape(s2)\n",
    "    s2s1 = np.concatenate((s2,s1))\n",
    "    #s2s1s0 = np.concatenate((s2s1,s0))\n",
    "    data = np.concatenate((s2s1,np.zeros((num_0_vec,B))))\n",
    "    return data"
   ]
  },
  {
   "cell_type": "code",
   "execution_count": 47,
   "id": "7a27af17-a298-45c4-bce7-f1b268c521a9",
   "metadata": {},
   "outputs": [],
   "source": [
    "def export_data(data, export_name):\n",
    "    data_vec = np.reshape(data, (len(data[1,:])*len(data[:,1])))\n",
    "    \n",
    "    import struct\n",
    "\n",
    "    f=open(export_name,\"wb\")\n",
    "    export_TL = data_vec\n",
    "    export_TL.dtype\n",
    "    myfmt='f'*len(export_TL)\n",
    "    #  You can use 'd' for double and < or > to force endinness\n",
    "    bin=struct.pack(myfmt,*export_TL)\n",
    "    f.write(bin)\n",
    "    f.close()\n",
    "    #export name must be a string with the extnesion.raw"
   ]
  },
  {
   "cell_type": "code",
   "execution_count": 39,
   "id": "d8057deb-c9cd-435b-9b3b-c70b9d47f2fb",
   "metadata": {},
   "outputs": [],
   "source": [
    "Kshell_data = np.concatenate((kpeaks_s2,kpeaks_s1))"
   ]
  },
  {
   "cell_type": "code",
   "execution_count": 43,
   "id": "0643e558-aff3-4aeb-899a-59f6dc5e8d8f",
   "metadata": {},
   "outputs": [],
   "source": [
    "Kshell_data_upsampled = upsample_data(Kshell_data, 8)"
   ]
  },
  {
   "cell_type": "code",
   "execution_count": 38,
   "id": "302d1ed4-4090-461e-8c20-a6964f587c1f",
   "metadata": {},
   "outputs": [
    {
     "ename": "NameError",
     "evalue": "name 'Kshell_data_upsampled' is not defined",
     "output_type": "error",
     "traceback": [
      "\u001b[0;31m---------------------------------------------------------------------------\u001b[0m",
      "\u001b[0;31mNameError\u001b[0m                                 Traceback (most recent call last)",
      "\u001b[0;32m<ipython-input-38-34499abfb878>\u001b[0m in \u001b[0;36m<module>\u001b[0;34m\u001b[0m\n\u001b[0;32m----> 1\u001b[0;31m \u001b[0mnp\u001b[0m\u001b[0;34m.\u001b[0m\u001b[0mshape\u001b[0m\u001b[0;34m(\u001b[0m\u001b[0mKshell_data_upsampled\u001b[0m\u001b[0;34m)\u001b[0m\u001b[0;34m\u001b[0m\u001b[0;34m\u001b[0m\u001b[0m\n\u001b[0m",
      "\u001b[0;31mNameError\u001b[0m: name 'Kshell_data_upsampled' is not defined"
     ]
    }
   ],
   "source": [
    "np.shape(Kshell_data_upsampled)"
   ]
  },
  {
   "cell_type": "code",
   "execution_count": 48,
   "id": "a68fbb3e-6641-4640-8491-85fd256e77f7",
   "metadata": {},
   "outputs": [],
   "source": [
    "export_data(Kshell_data_upsampled, \"Kshell_sim_data_upsampled.raw\")"
   ]
  },
  {
   "cell_type": "code",
   "execution_count": 111,
   "id": "99b9a3e6-3c5e-4f1c-ab18-c4999193c72a",
   "metadata": {},
   "outputs": [],
   "source": [
    "Lshell_data = np.concatenate((lpeaks_s2,lpeaks_s1))"
   ]
  },
  {
   "cell_type": "code",
   "execution_count": 50,
   "id": "b7b17abe-61d9-4cd5-a8af-1bdcb5dbe971",
   "metadata": {},
   "outputs": [],
   "source": [
    "Lshell_data_upsampled = upsample_data(Lshell_data, 8)"
   ]
  },
  {
   "cell_type": "code",
   "execution_count": 51,
   "id": "553450dc-6d7b-4c33-b710-0d543f1fd777",
   "metadata": {},
   "outputs": [
    {
     "data": {
      "text/plain": [
       "(957, 1600)"
      ]
     },
     "execution_count": 51,
     "metadata": {},
     "output_type": "execute_result"
    }
   ],
   "source": [
    "np.shape(Lshell_data_upsampled)"
   ]
  },
  {
   "cell_type": "code",
   "execution_count": 52,
   "id": "11c20e4e-a4d4-441d-bacf-91955dab4200",
   "metadata": {},
   "outputs": [],
   "source": [
    "export_data(Lshell_data_upsampled, \"Lshell_sim_data_upsampled.raw\")"
   ]
  },
  {
   "cell_type": "code",
   "execution_count": 71,
   "id": "216c39d9-4066-4970-a1ab-f61f9e5231a1",
   "metadata": {},
   "outputs": [],
   "source": [
    "def assign_labels(data, ref_img, xdim, ydim, cut_out):\n",
    "    '''This functions takes in the data and classifications based on an image gives the\n",
    "    unique labels as well as the data set bacl with the new classification\n",
    "    PS this version only takes in S1s and S2s and ignores unclassified samples, \n",
    "    another version will be made to deal with the unclassified samples\n",
    "    \n",
    "    data: can be either peaks or peak_basics\n",
    "    ref_img: will be the image extracted from the SOM classification of each data point\n",
    "    xdim: width of the image cube\n",
    "    ydim: height of the image cube\n",
    "    cut_out: removes the n last digits of the image vector if necesarry'''\n",
    "    from PIL import Image\n",
    "    img = Image.open(ref_img)\n",
    "    imgGray = img.convert('L')\n",
    "    #imgGray2.save('/home/luissanchez25/im_kr83_real__30x30_2lbl.0.rmpmap.png')\n",
    "    img_color = np.array(img)\n",
    "    img_color_2d = img_color.reshape((xdim*ydim,3))\n",
    "    label = -1 * np.ones(img_color.shape[:-1])\n",
    "    colorp = np.unique(img_color_2d, axis = 0)\n",
    "    for i, color in enumerate(colorp):  # argwhere\n",
    "        label[np.all((img_color == color), axis = 2)] = i\n",
    "    label_vec = label.reshape((xdim*ydim))\n",
    "    if cut_out != 0:\n",
    "        label_vec_nonzero = label_vec[:-cut_out]\n",
    "    elif cut_out == 0:\n",
    "        label_vec_nonzero = label_vec\n",
    "    s2_data = data[data['type'] == 2]\n",
    "    s1_data = data[data['type'] == 1]\n",
    "    som_class_peaks = np.concatenate((s2_data,s1_data)) #note had to reverse s2,s1 to s1,s2\n",
    "    som_class_peaks['type'] = label_vec_nonzero\n",
    "    \n",
    "    return colorp, som_class_peaks"
   ]
  },
  {
   "cell_type": "markdown",
   "id": "a4ba4025-5c77-499d-84a1-c9cb913149cd",
   "metadata": {},
   "source": [
    "This section of the code will be for processing the results of the data from the SOM"
   ]
  },
  {
   "cell_type": "code",
   "execution_count": 80,
   "id": "de2bb5cd-13d6-4d72-b661-cf4e79f3ae42",
   "metadata": {},
   "outputs": [],
   "source": [
    "kshell_colors, kshell_labels = assign_labels(kpb,'im_kr83realSOM_ArKshellmap_vs.0.rmpmap.png',233,76,0)"
   ]
  },
  {
   "cell_type": "code",
   "execution_count": 73,
   "id": "789d795a-fbaf-41f7-be0d-538acae310d1",
   "metadata": {},
   "outputs": [],
   "source": [
    "class0_ark = kshell_labels[kshell_labels['type'] == 0]\n",
    "class1_ark = kshell_labels[kshell_labels['type'] == 1]\n",
    "class2_ark = kshell_labels[kshell_labels['type'] == 2]\n",
    "class3_ark = kshell_labels[kshell_labels['type'] == 3]\n",
    "class4_ark = kshell_labels[kshell_labels['type'] == 4]"
   ]
  },
  {
   "cell_type": "code",
   "execution_count": 77,
   "id": "10ae5c43-4e98-4af5-8d66-57afa6ef429b",
   "metadata": {},
   "outputs": [
    {
     "data": {
      "image/png": "[encoded data removed]",
      "text/plain": [
       "<Figure size 720x432 with 1 Axes>"
      ]
     },
     "metadata": {
      "needs_background": "light"
     },
     "output_type": "display_data"
    }
   ],
   "source": [
    "fig = plt.figure(figsize=(10,6))\n",
    "plt.scatter(class0_ark['area'],class0_ark['rise_time'], s= 0.1, marker='.',color='b', label = 'Class 0')\n",
    "plt.scatter(class1_ark['area'],class1_ark['rise_time'], s= 0.1, marker='.',color='g', label = 'Class 1')\n",
    "plt.scatter(class3_ark['area'],class3_ark['rise_time'], s= 0.1, marker='.',color='green', label = 'Class 1')\n",
    "plt.scatter(class4_ark['area'],class4_ark['rise_time'], s= 0.1, marker='.',color='orange', label = 'Class 3')\n",
    "#plt.scatter(class2['area'],class2['rise_time'], s= 0.1, marker='.',color='red')\n",
    "plt.yscale('log')\n",
    "plt.ylim(2,12000)\n",
    "plt.xlim(0.1,2e6)\n",
    "plt.xscale('log')\n",
    "plt.xlabel('Area [PE]')#, fontsize = 30)\n",
    "plt.ylabel('Rise time [ns]')#, fontsize = 30)\n",
    "plt.legend(markerscale=8)#, fontsize = 24)\n",
    "plt.tight_layout()\n",
    "#plt.savefig('Checks/kr83_real_data_2lbl_SOM_class.pdf')\n",
    "plt.show()"
   ]
  },
  {
   "cell_type": "code",
   "execution_count": 130,
   "id": "cdb74a00-7f51-430a-b4a7-e5bb44a0a16c",
   "metadata": {},
   "outputs": [],
   "source": [
    "lshell_colors, lshell_labels = assign_labels(lpb,'im_kr83realSOM_ArLshell_test.0.rmpmap.png',33,29,0)"
   ]
  },
  {
   "cell_type": "code",
   "execution_count": 120,
   "id": "9877a029-c083-4121-9e4a-f6817306484b",
   "metadata": {},
   "outputs": [
    {
     "data": {
      "text/plain": [
       "array([[  0,   0, 255],\n",
       "       [  0, 255,   0],\n",
       "       [254, 146,  43]], dtype=uint8)"
      ]
     },
     "execution_count": 120,
     "metadata": {},
     "output_type": "execute_result"
    }
   ],
   "source": [
    "lshell_colors"
   ]
  },
  {
   "cell_type": "code",
   "execution_count": 68,
   "id": "e3f651ee-8121-4213-a123-7299625a6014",
   "metadata": {},
   "outputs": [],
   "source": [
    "class0_arl = lshell_labels[lshell_labels['type'] == 0]\n",
    "class1_arl = lshell_labels[lshell_labels['type'] == 1]\n",
    "class2_arl = lshell_labels[lshell_labels['type'] == 2]\n",
    "class3_arl = lshell_labels[lshell_labels['type'] == 3]\n",
    "class4_arl = lshell_labels[lshell_labels['type'] == 4]"
   ]
  },
  {
   "cell_type": "code",
   "execution_count": 132,
   "id": "cc79e97d-7864-4418-8a8e-a2d2acf2211d",
   "metadata": {},
   "outputs": [
    {
     "data": {
      "image/png": "[encoded data removed]",
      "text/plain": [
       "<Figure size 720x432 with 1 Axes>"
      ]
     },
     "metadata": {
      "needs_background": "light"
     },
     "output_type": "display_data"
    }
   ],
   "source": [
    "fig = plt.figure(figsize=(10,6))\n",
    "plt.scatter(class0_arl['area'],class0_arl['rise_time'], s= 5, marker='x',color='b', label = 'Class 0')\n",
    "plt.scatter(class1_arl['area'],class1_arl['rise_time'], s= 0.1, marker='.',color='g', label = 'Class 1')\n",
    "#plt.scatter(class3_arl['area'],class3_arl['rise_time'], s= 1, marker='x',color='purple', label = 'Class 1')\n",
    "#plt.scatter(class4_arl['area'],class4_arl['rise_time'], s= 1, marker='x',color='orange', label = 'Class 3')\n",
    "plt.scatter(class2_arl['area'],class2_arl['rise_time'], s= 1, marker='x',color='red')\n",
    "plt.yscale('log')\n",
    "plt.ylim(2,12000)\n",
    "plt.xlim(1,2e3)\n",
    "plt.xscale('log')\n",
    "plt.xlabel('Area [PE]')#, fontsize = 30)\n",
    "plt.ylabel('Rise time [ns]')#, fontsize = 30)\n",
    "plt.legend(markerscale=8)#, fontsize = 24)\n",
    "plt.tight_layout()\n",
    "#plt.savefig('Checks/kr83_real_data_2lbl_SOM_class.pdf')\n",
    "plt.show()"
   ]
  },
  {
   "cell_type": "code",
   "execution_count": 76,
   "id": "b9763282-46be-4937-9d27-18a561424e2e",
   "metadata": {},
   "outputs": [],
   "source": [
    "def check_accuracy(results, truth):\n",
    "    data_num = np.size(truth)\n",
    "    correct_classification = 0\n",
    "    for num in np.arange(data_num):\n",
    "        if results[num] == truth[num]:\n",
    "            correct_classification += 1\n",
    "    percent_correct = correct_classification/data_num\n",
    "    return percent_correct"
   ]
  },
  {
   "cell_type": "code",
   "execution_count": 102,
   "id": "912b822d-3d3e-4ca0-bd01-33b36a717545",
   "metadata": {},
   "outputs": [],
   "source": [
    "def generate_confusion_mat(predicted,truth):\n",
    "    import pandas as pd\n",
    "    import seaborn as sn\n",
    "    import matplotlib.pyplot as plt\n",
    "\n",
    "    data = {'y_Actual':    truth,\n",
    "            'y_Predicted': predicted\n",
    "            }\n",
    "\n",
    "    df = pd.DataFrame(data, columns=['y_Actual','y_Predicted'])\n",
    "    #df = pd.DataFrame(data, columns=['y_Predicted','y_Actual'])\n",
    "    confusion_matrix = pd.crosstab(df['y_Actual'], df['y_Predicted'], rownames=['Ground truth'], colnames=['Predicted'], margins = True)\n",
    "    #confusion_matrix = pd.crosstab(df['y_Predicted'], df['y_Actual'], rownames=['Ground truth'], colnames=['Predicted'], margins = True)\n",
    "    a = confusion_matrix\n",
    "    aa = np.array(a)\n",
    "    v = aa[:,3]\n",
    "    confusion_matrix = confusion_matrix / v[:,None]\n",
    "\n",
    "    sn.heatmap(confusion_matrix, annot=True)\n",
    "    #plt.savefig('Qual_imgs/kr83_confusion_mat_SOM.png')\n",
    "    plt.show()"
   ]
  },
  {
   "cell_type": "code",
   "execution_count": 122,
   "id": "377d5198-1bc7-457c-bef1-bfc75d77df3d",
   "metadata": {},
   "outputs": [],
   "source": [
    "kshell_labels_bi = kshell_labels\n",
    "kshell_labels_bi['type'] =np.where(kshell_labels['type'] == 3, 1, kshell_labels['type'])\n",
    "kshell_labels_bi['type'] =np.where(kshell_labels['type'] == 2, -1, kshell_labels['type'])\n",
    "#kshell_labels_bi =np.where(kshell_labels_bi['type'] == 3, 1, kshell_labels_bi['type'])"
   ]
  },
  {
   "cell_type": "markdown",
   "id": "01bf5f20-c4a7-4a55-b800-cc3bb87bc093",
   "metadata": {},
   "source": [
    "SOM accuracy"
   ]
  },
  {
   "cell_type": "code",
   "execution_count": 90,
   "id": "d43ab222-e17a-428a-a995-7ecc4559a4ca",
   "metadata": {},
   "outputs": [
    {
     "data": {
      "text/plain": [
       "0.9905127625931782"
      ]
     },
     "execution_count": 90,
     "metadata": {},
     "output_type": "execute_result"
    }
   ],
   "source": [
    "check_accuracy(kshell_labels_bi['type']+1,Kshell_data['type'] ) #need to add a +1 for shifting issues"
   ]
  },
  {
   "cell_type": "code",
   "execution_count": 108,
   "id": "a237416c-74a0-4c1f-ae8e-e0f2ec088c81",
   "metadata": {},
   "outputs": [
    {
     "data": {
      "image/png": "[encoded data removed]",
      "text/plain": [
       "<Figure size 432x288 with 2 Axes>"
      ]
     },
     "metadata": {
      "needs_background": "light"
     },
     "output_type": "display_data"
    }
   ],
   "source": [
    "generate_confusion_mat(kshell_labels_bi['type']+1,Kshell_data['type'] )"
   ]
  },
  {
   "cell_type": "code",
   "execution_count": 105,
   "id": "a81a88dc-e5d0-4268-9fe4-f8fbdb4b729f",
   "metadata": {},
   "outputs": [
    {
     "data": {
      "text/plain": [
       "3"
      ]
     },
     "execution_count": 105,
     "metadata": {},
     "output_type": "execute_result"
    }
   ],
   "source": [
    "np.max(kshell_labels_bi['type']+1)"
   ]
  },
  {
   "cell_type": "code",
   "execution_count": 87,
   "id": "7cb7c15d-778c-4717-9940-c98273e4fdba",
   "metadata": {},
   "outputs": [
    {
     "data": {
      "text/plain": [
       "array([1, 1, 1, ..., 0, 0, 0], dtype=int8)"
      ]
     },
     "execution_count": 87,
     "metadata": {},
     "output_type": "execute_result"
    }
   ],
   "source": [
    "kshell_labels_bi['type']"
   ]
  },
  {
   "cell_type": "code",
   "execution_count": 89,
   "id": "d53eef15-e2ec-474f-8b9e-c9293f3efda8",
   "metadata": {},
   "outputs": [
    {
     "data": {
      "text/plain": [
       "array([2, 2, 2, ..., 1, 1, 1], dtype=int8)"
      ]
     },
     "execution_count": 89,
     "metadata": {},
     "output_type": "execute_result"
    }
   ],
   "source": [
    "Kshell_data['type']"
   ]
  },
  {
   "cell_type": "markdown",
   "id": "29fedf7e-2a2d-4617-b0a7-6ba83f2c26e4",
   "metadata": {},
   "source": [
    "Strax Accuracy"
   ]
  },
  {
   "cell_type": "code",
   "execution_count": 92,
   "id": "fc570c35-a052-4bb3-ac9c-c3e93d4d9249",
   "metadata": {},
   "outputs": [],
   "source": [
    "s2_strax = kmatched_peaks[kmatched_peaks['type'] == 2]\n",
    "s1_strax = kmatched_peaks[kmatched_peaks['type'] == 1]\n",
    "strax_kmatched = np.concatenate((s2_strax,s1_strax))"
   ]
  },
  {
   "cell_type": "code",
   "execution_count": 97,
   "id": "fd5ae001-eb49-4f61-9150-dd6be764f18b",
   "metadata": {},
   "outputs": [
    {
     "data": {
      "text/plain": [
       "0.9625028235825616"
      ]
     },
     "execution_count": 97,
     "metadata": {},
     "output_type": "execute_result"
    }
   ],
   "source": [
    "check_accuracy(kmatched_peak_basics['type'],kmatched_truth['type'] )"
   ]
  },
  {
   "cell_type": "code",
   "execution_count": 104,
   "id": "e5cb55fd-d140-4d37-a99a-72b29b910b3e",
   "metadata": {},
   "outputs": [
    {
     "data": {
      "image/png": "[encoded data removed]",
      "text/plain": [
       "<Figure size 432x288 with 2 Axes>"
      ]
     },
     "metadata": {
      "needs_background": "light"
     },
     "output_type": "display_data"
    }
   ],
   "source": [
    "generate_confusion_mat(kmatched_peak_basics['type'],kmatched_truth['type'] )"
   ]
  },
  {
   "cell_type": "code",
   "execution_count": 96,
   "id": "cdde14b3-4cea-4b9b-b28e-a2cc65cb53b1",
   "metadata": {},
   "outputs": [
    {
     "name": "stderr",
     "output_type": "stream",
     "text": [
      "No handles with labels found to put in legend.\n"
     ]
    },
    {
     "data": {
      "image/png": "[encoded data removed]",
      "text/plain": [
       "<Figure size 720x432 with 1 Axes>"
      ]
     },
     "metadata": {
      "needs_background": "light"
     },
     "output_type": "display_data"
    }
   ],
   "source": [
    "s2_kargon = kmatched_peak_basics[kmatched_peak_basics['type'] == 2]\n",
    "s1_kargon = kmatched_peak_basics[kmatched_peak_basics['type'] == 1]\n",
    "fig = plt.figure(figsize=(10,6))\n",
    "plt.scatter(s2_kargon['area'],s2_kargon['rise_time'], s= 0.1, marker='.',color='g')\n",
    "plt.scatter(s1_kargon['area'],s1_kargon['rise_time'], s= 0.1, marker='.',color='b')\n",
    "plt.yscale('log')\n",
    "plt.ylim(2,12000)\n",
    "plt.xlim(0.1,2e6)\n",
    "plt.xscale('log')\n",
    "plt.xlabel('Area [PE]')#, fontsize = 30)\n",
    "plt.ylabel('Rise time [ns]')#, fontsize = 30)\n",
    "plt.legend(markerscale=8)#, fontsize = 24)\n",
    "plt.tight_layout()\n",
    "#plt.savefig('Checks/kr83_real_data_2lbl_SOM_class.pdf')\n",
    "plt.show()"
   ]
  },
  {
   "cell_type": "markdown",
   "id": "9ac472ae-e178-430b-8eeb-8b6ce73f075c",
   "metadata": {},
   "source": [
    "Now we check on how the L shell did, here we expect all data to be S2s"
   ]
  },
  {
   "cell_type": "code",
   "execution_count": 133,
   "id": "56bdccfe-e83d-4483-9be3-83f89743a620",
   "metadata": {},
   "outputs": [],
   "source": [
    "lshell_labels_bi = lshell_labels\n",
    "lshell_labels_bi['type'] =np.where(lshell_labels['type'] == 3, 1, lshell_labels['type'])\n",
    "lshell_labels_bi['type'] =np.where(lshell_labels_bi['type'] == 2, 1, lshell_labels_bi['type'])\n",
    "#kshell_labels_bi =np.where(kshell_labels_bi['type'] == 3, 1, kshell_labels_bi['type'])"
   ]
  },
  {
   "cell_type": "code",
   "execution_count": 134,
   "id": "a278b3d1-c140-4b20-ae9d-45cd31d64dd7",
   "metadata": {},
   "outputs": [],
   "source": [
    "#Lshell_data = np.concatenate((lpeaks_s2,lpeaks_s1))"
   ]
  },
  {
   "cell_type": "markdown",
   "id": "ef2172ff-7fa5-41fb-ab9b-e41c616fe59c",
   "metadata": {},
   "source": [
    "SOM classification Argon L shell"
   ]
  },
  {
   "cell_type": "code",
   "execution_count": 135,
   "id": "5b3d898b-c6a4-4e63-9483-652ddfcb442c",
   "metadata": {},
   "outputs": [
    {
     "data": {
      "text/plain": [
       "0.9958202716823407"
      ]
     },
     "execution_count": 135,
     "metadata": {},
     "output_type": "execute_result"
    }
   ],
   "source": [
    "check_accuracy(lshell_labels_bi['type']+1,Lshell_data['type'] ) #need to add a +1 for shifting issues"
   ]
  },
  {
   "cell_type": "code",
   "execution_count": 137,
   "id": "54d99b19-f936-4883-9355-445595a6cffb",
   "metadata": {},
   "outputs": [
    {
     "ename": "IndexError",
     "evalue": "index 3 is out of bounds for axis 1 with size 3",
     "output_type": "error",
     "traceback": [
      "\u001b[0;31m---------------------------------------------------------------------------\u001b[0m",
      "\u001b[0;31mIndexError\u001b[0m                                Traceback (most recent call last)",
      "\u001b[0;32m<ipython-input-137-5d61438ea8b4>\u001b[0m in \u001b[0;36m<module>\u001b[0;34m\u001b[0m\n\u001b[0;32m----> 1\u001b[0;31m \u001b[0mgenerate_confusion_mat\u001b[0m\u001b[0;34m(\u001b[0m\u001b[0mlshell_labels_bi\u001b[0m\u001b[0;34m[\u001b[0m\u001b[0;34m'type'\u001b[0m\u001b[0;34m]\u001b[0m\u001b[0;34m+\u001b[0m\u001b[0;36m1\u001b[0m\u001b[0;34m,\u001b[0m\u001b[0mLshell_data\u001b[0m\u001b[0;34m[\u001b[0m\u001b[0;34m'type'\u001b[0m\u001b[0;34m]\u001b[0m\u001b[0;34m)\u001b[0m\u001b[0;34m\u001b[0m\u001b[0;34m\u001b[0m\u001b[0m\n\u001b[0m",
      "\u001b[0;32m<ipython-input-102-3f51230d28ba>\u001b[0m in \u001b[0;36mgenerate_confusion_mat\u001b[0;34m(predicted, truth)\u001b[0m\n\u001b[1;32m     14\u001b[0m     \u001b[0ma\u001b[0m \u001b[0;34m=\u001b[0m \u001b[0mconfusion_matrix\u001b[0m\u001b[0;34m\u001b[0m\u001b[0;34m\u001b[0m\u001b[0m\n\u001b[1;32m     15\u001b[0m     \u001b[0maa\u001b[0m \u001b[0;34m=\u001b[0m \u001b[0mnp\u001b[0m\u001b[0;34m.\u001b[0m\u001b[0marray\u001b[0m\u001b[0;34m(\u001b[0m\u001b[0ma\u001b[0m\u001b[0;34m)\u001b[0m\u001b[0;34m\u001b[0m\u001b[0;34m\u001b[0m\u001b[0m\n\u001b[0;32m---> 16\u001b[0;31m     \u001b[0mv\u001b[0m \u001b[0;34m=\u001b[0m \u001b[0maa\u001b[0m\u001b[0;34m[\u001b[0m\u001b[0;34m:\u001b[0m\u001b[0;34m,\u001b[0m\u001b[0;36m3\u001b[0m\u001b[0;34m]\u001b[0m\u001b[0;34m\u001b[0m\u001b[0;34m\u001b[0m\u001b[0m\n\u001b[0m\u001b[1;32m     17\u001b[0m     \u001b[0mconfusion_matrix\u001b[0m \u001b[0;34m=\u001b[0m \u001b[0mconfusion_matrix\u001b[0m \u001b[0;34m/\u001b[0m \u001b[0mv\u001b[0m\u001b[0;34m[\u001b[0m\u001b[0;34m:\u001b[0m\u001b[0;34m,\u001b[0m\u001b[0;32mNone\u001b[0m\u001b[0;34m]\u001b[0m\u001b[0;34m\u001b[0m\u001b[0;34m\u001b[0m\u001b[0m\n\u001b[1;32m     18\u001b[0m \u001b[0;34m\u001b[0m\u001b[0m\n",
      "\u001b[0;31mIndexError\u001b[0m: index 3 is out of bounds for axis 1 with size 3"
     ]
    }
   ],
   "source": [
    "generate_confusion_mat(lshell_labels_bi['type']+1,Lshell_data['type'])"
   ]
  },
  {
   "cell_type": "code",
   "execution_count": 136,
   "id": "129bb55e-20f5-4f0c-8d53-f18df7d0997e",
   "metadata": {},
   "outputs": [
    {
     "data": {
      "text/plain": [
       "1.0"
      ]
     },
     "execution_count": 136,
     "metadata": {},
     "output_type": "execute_result"
    }
   ],
   "source": [
    "check_accuracy(lmatched_peak_basics['type'],lmatched_truth['type'])"
   ]
  },
  {
   "cell_type": "code",
   "execution_count": null,
   "id": "ea109f6b-e541-41bb-a4a0-45648e30d42e",
   "metadata": {},
   "outputs": [],
   "source": []
  }
 ],
 "metadata": {
  "kernelspec": {
   "display_name": "Python [conda env:didacts]",
   "language": "python",
   "name": "conda-env-didacts-py"
  },
  "language_info": {
   "codemirror_mode": {
    "name": "ipython",
    "version": 3
   },
   "file_extension": ".py",
   "mimetype": "text/x-python",
   "name": "python",
   "nbconvert_exporter": "python",
   "pygments_lexer": "ipython3",
   "version": "3.8.5"
  }
 },
 "nbformat": 4,
 "nbformat_minor": 5
}
